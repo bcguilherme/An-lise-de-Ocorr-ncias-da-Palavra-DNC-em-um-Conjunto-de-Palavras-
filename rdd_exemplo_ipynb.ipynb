{
  "nbformat": 4,
  "nbformat_minor": 0,
  "metadata": {
    "colab": {
      "provenance": [],
      "include_colab_link": true
    },
    "kernelspec": {
      "name": "python3",
      "display_name": "Python 3"
    },
    "language_info": {
      "name": "python"
    }
  },
  "cells": [
    {
      "cell_type": "markdown",
      "metadata": {
        "id": "view-in-github",
        "colab_type": "text"
      },
      "source": [
        "<a href=\"https://colab.research.google.com/github/bcguilherme/An-lise-de-Ocorr-ncias-da-Palavra-DNC-em-um-Conjunto-de-Palavras-/blob/main/rdd_exemplo_ipynb.ipynb\" target=\"_parent\"><img src=\"https://colab.research.google.com/assets/colab-badge.svg\" alt=\"Open In Colab\"/></a>"
      ]
    },
    {
      "cell_type": "code",
      "source": [
        "!pip install pyspark"
      ],
      "metadata": {
        "colab": {
          "base_uri": "https://localhost:8080/"
        },
        "id": "GyBbZL20eyl1",
        "outputId": "e94c702a-93e8-41b9-f18d-ba3674dc6d19"
      },
      "execution_count": null,
      "outputs": [
        {
          "output_type": "stream",
          "name": "stdout",
          "text": [
            "Looking in indexes: https://pypi.org/simple, https://us-python.pkg.dev/colab-wheels/public/simple/\n",
            "Collecting pyspark\n",
            "  Downloading pyspark-3.3.1.tar.gz (281.4 MB)\n",
            "\u001b[2K     \u001b[90m━━━━━━━━━━━━━━━━━━━━━━━━━━━━━━━━━━━━━━━\u001b[0m \u001b[32m281.4/281.4 MB\u001b[0m \u001b[31m4.1 MB/s\u001b[0m eta \u001b[36m0:00:00\u001b[0m\n",
            "\u001b[?25h  Preparing metadata (setup.py) ... \u001b[?25l\u001b[?25hdone\n",
            "Collecting py4j==0.10.9.5\n",
            "  Downloading py4j-0.10.9.5-py2.py3-none-any.whl (199 kB)\n",
            "\u001b[2K     \u001b[90m━━━━━━━━━━━━━━━━━━━━━━━━━━━━━━━━━━━━━━\u001b[0m \u001b[32m199.7/199.7 KB\u001b[0m \u001b[31m12.1 MB/s\u001b[0m eta \u001b[36m0:00:00\u001b[0m\n",
            "\u001b[?25hBuilding wheels for collected packages: pyspark\n",
            "  Building wheel for pyspark (setup.py) ... \u001b[?25l\u001b[?25hdone\n",
            "  Created wheel for pyspark: filename=pyspark-3.3.1-py2.py3-none-any.whl size=281845512 sha256=6d3fb1abc2e840f9d49b6e1761ae6884b4120e646ac76d2dbebd106f1083239f\n",
            "  Stored in directory: /root/.cache/pip/wheels/43/dc/11/ec201cd671da62fa9c5cc77078235e40722170ceba231d7598\n",
            "Successfully built pyspark\n",
            "Installing collected packages: py4j, pyspark\n",
            "Successfully installed py4j-0.10.9.5 pyspark-3.3.1\n"
          ]
        }
      ]
    },
    {
      "cell_type": "code",
      "source": [
        "from pyspark import SparkContext"
      ],
      "metadata": {
        "id": "Gy8wGrnDfIpB"
      },
      "execution_count": null,
      "outputs": []
    },
    {
      "cell_type": "code",
      "source": [
        "sc = SparkContext(\"local\", \"RDD Exemplo\")"
      ],
      "metadata": {
        "id": "a2sds0pkfVYr"
      },
      "execution_count": null,
      "outputs": []
    },
    {
      "cell_type": "code",
      "source": [
        "rdd_texto = sc.textFile('./rdd_dataset.txt')"
      ],
      "metadata": {
        "id": "SQo9IgcVg3kI"
      },
      "execution_count": null,
      "outputs": []
    },
    {
      "cell_type": "code",
      "source": [
        "rdd_texto.collect()"
      ],
      "metadata": {
        "colab": {
          "base_uri": "https://localhost:8080/"
        },
        "id": "QKTf3ynShIIu",
        "outputId": "a8fb1d01-f1a5-4691-83ad-d4b8169ac5a7"
      },
      "execution_count": null,
      "outputs": [
        {
          "output_type": "execute_result",
          "data": {
            "text/plain": [
              "['Cenoura',\n",
              " 'Otimista',\n",
              " 'Solitário',\n",
              " 'Imperfeição',\n",
              " 'Descoberta',\n",
              " 'Fantasia',\n",
              " 'DNC',\n",
              " 'Maravilhoso',\n",
              " 'Criatividade',\n",
              " 'Compreensão',\n",
              " 'Atraente',\n",
              " 'Festa',\n",
              " 'Intenção',\n",
              " 'Encontro',\n",
              " 'Destino',\n",
              " 'Sucesso',\n",
              " 'Conquistar',\n",
              " 'Simplicidade',\n",
              " 'Paz',\n",
              " 'Existência',\n",
              " 'Poderoso',\n",
              " 'DNC',\n",
              " 'Conseguir',\n",
              " 'Forte',\n",
              " 'Alegria',\n",
              " 'Espírito',\n",
              " 'Mudança',\n",
              " 'Coragem',\n",
              " 'Determinação',\n",
              " 'DNC']"
            ]
          },
          "metadata": {},
          "execution_count": 12
        }
      ]
    },
    {
      "cell_type": "code",
      "source": [
        "rdd_filtrado = rdd_texto.filter(lambda linha: \"DNC\" in linha)"
      ],
      "metadata": {
        "id": "fjKvdEmhhR2j"
      },
      "execution_count": null,
      "outputs": []
    },
    {
      "cell_type": "code",
      "source": [
        "rdd_filtrado.collect()"
      ],
      "metadata": {
        "colab": {
          "base_uri": "https://localhost:8080/"
        },
        "id": "0zztFRXAhp5E",
        "outputId": "b600dfbf-8db6-4cd0-960c-9651de7cf248"
      },
      "execution_count": null,
      "outputs": [
        {
          "output_type": "execute_result",
          "data": {
            "text/plain": [
              "['DNC', 'DNC', 'DNC']"
            ]
          },
          "metadata": {},
          "execution_count": 14
        }
      ]
    },
    {
      "cell_type": "code",
      "source": [
        "rdd_filtrado.count()"
      ],
      "metadata": {
        "colab": {
          "base_uri": "https://localhost:8080/"
        },
        "id": "pm7P0dq3hp_W",
        "outputId": "fdb2737b-516e-47cd-ad14-90e2bc1bb272"
      },
      "execution_count": null,
      "outputs": [
        {
          "output_type": "execute_result",
          "data": {
            "text/plain": [
              "3"
            ]
          },
          "metadata": {},
          "execution_count": 15
        }
      ]
    }
  ]
}